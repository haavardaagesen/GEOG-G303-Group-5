{
 "cells": [
  {
   "cell_type": "code",
   "execution_count": 1,
   "metadata": {},
   "outputs": [],
   "source": [
    "#import module and read file\n",
    "import pandas as pd\n",
    "import geopandas as gpd\n",
    "import matplotlib.pyplot as plt\n",
    "from shapely.geometry import Point, LineString, Polygon, MultiPolygon\n",
    "import numpy as np\n",
    "\n",
    "regions = gpd.read_file('SuomenMaakuntajako_2018_10k.shp')"
   ]
  },
  {
   "cell_type": "code",
   "execution_count": 2,
   "metadata": {},
   "outputs": [
    {
     "data": {
      "text/plain": [
       "<matplotlib.axes._subplots.AxesSubplot at 0x170d2f60c08>"
      ]
     },
     "execution_count": 2,
     "metadata": {},
     "output_type": "execute_result"
    },
    {
     "data": {
      "image/png": "[encoded data removed]",
      "text/plain": [
       "<Figure size 432x288 with 1 Axes>"
      ]
     },
     "metadata": {
      "needs_background": "light"
     },
     "output_type": "display_data"
    }
   ],
   "source": [
    "#plot map to check\n",
    "regions.plot()"
   ]
  },
  {
   "cell_type": "code",
   "execution_count": 3,
   "metadata": {},
   "outputs": [],
   "source": [
    "#read csv files of visitor data\n",
    "allvisitors = pd.read_csv('allvisitors_seasons.csv', sep= ';')\n",
    "finnish = pd.read_csv('finnishvisitors_seasons.csv', sep= ';')\n",
    "foreign = pd.read_csv('foreignvisitors_seasons.csv', sep= ';')"
   ]
  },
  {
   "cell_type": "code",
   "execution_count": 4,
   "metadata": {},
   "outputs": [],
   "source": [
    "#create list from region codes\n",
    "NATCODE = ['01', '02', '04', '05', '06', '07', '08', '09', '10', '11', '12', '13', '14', '15', '16',\n",
    "     '17','18', '19','21']"
   ]
  },
  {
   "cell_type": "code",
   "execution_count": 5,
   "metadata": {},
   "outputs": [],
   "source": [
    "#add region codes as a column to the csv files. (The regions on the csv files are in region code order.\n",
    "#This done was done when editing the csv files themselves) \n",
    "allvisitors['NATCODE'] = NATCODE\n",
    "finnish['NATCODE'] = NATCODE\n",
    "foreign['NATCODE'] = NATCODE"
   ]
  },
  {
   "cell_type": "code",
   "execution_count": 6,
   "metadata": {},
   "outputs": [
    {
     "name": "stdout",
     "output_type": "stream",
     "text": [
      "                Region               Landskap  ID  2017_Aut  2017_18_Win  \\\n",
      "0             Uusimaa                  Nyland   1   1040469      1347355   \n",
      "1      Varsinais-Suomi      Egentliga Finland   2    176299       201291   \n",
      "2            Satakunta              Satakunta   4     55105        63365   \n",
      "3          Kanta-Hame    Egentliga Tavastland   5     61663        69472   \n",
      "4           Pirkanmaa               Birkaland   6    241737       292228   \n",
      "5          Paijat-Hame    Paijanne-Tavastland   7     77509       117139   \n",
      "6          Kymenlaakso           Kymmenedalen   8     45298        42341   \n",
      "7        Etela-Karjala          Sodra Karelen   9     98724       139869   \n",
      "8           Etela-Savo          Sodra Savolax  10     67985        93257   \n",
      "9         Pohjois-Savo          Norra Savolax  11    114451       183856   \n",
      "10     Pohjois-Karjala          Norra Karelen  12     60723        79808   \n",
      "11         Keski-Suomi      Mellersta Finland  13    126537       235812   \n",
      "12     Etela-Pohjanmaa      Sodra Osterbotten  14     82594        95627   \n",
      "13           Pohjanmaa            Osterbotten  15     60495        63579   \n",
      "14    Keski-Pohjanmaa   Mellersta Osterbotten  16     20650        22893   \n",
      "15  Pohjois-Pohjanmaa       Norra Osterbotten  17    235567       445079   \n",
      "16              Kainuu             Kajanaland  18    124420       242727   \n",
      "17              Lappi                 Lapland  19    265690      1167540   \n",
      "18        Ahvenanmaa                    Aland  21     25591        19012   \n",
      "\n",
      "    2018_Sp  2018_Sum  2018_Aut  2018_19_Win  2019_Sp  2019_Sum  2019_Aut  \\\n",
      "0   1495742   2071716   1626655      1380791  1562033   2282457   1221071   \n",
      "1    260649    510917    252806       190830   264072    539905    209727   \n",
      "2     84914    191165     81606        54249    77704    180810     55222   \n",
      "3     84554    133044     89931        67348    87793    129547     62226   \n",
      "4    353768    541601    364840       310643   356522    560426    265037   \n",
      "5    145606    208785    145866       133545   144383    215271    106234   \n",
      "6     53464    122967     64829        44386    61926    135888     43855   \n",
      "7    150579    255288    161022       140337   147805    284099    118252   \n",
      "8    106635    352546    120451       105037   111184    346057     88206   \n",
      "9    182803    296141    179671       178919   188259    295142    132051   \n",
      "10    98286    190611    100097        82758    93866    226938     74758   \n",
      "11   232211    406812    215651       230033   226179    385440    148006   \n",
      "12   127742    346830    141098        88935   126580    361415    113413   \n",
      "13    80393    149111     88031        61545    80218    169099     61256   \n",
      "14    27378     61145     34037        22287    27749     60900     25362   \n",
      "15   421570    602319    370205       448280   423907    604986    249348   \n",
      "16   223058    273355    203658       254323   229207    294456    168781   \n",
      "17   719274    600217    484694      1215115   748607    628534    324004   \n",
      "18    67789    251906     54403        18577    61627    264135     43264   \n",
      "\n",
      "   NATCODE  \n",
      "0       01  \n",
      "1       02  \n",
      "2       04  \n",
      "3       05  \n",
      "4       06  \n",
      "5       07  \n",
      "6       08  \n",
      "7       09  \n",
      "8       10  \n",
      "9       11  \n",
      "10      12  \n",
      "11      13  \n",
      "12      14  \n",
      "13      15  \n",
      "14      16  \n",
      "15      17  \n",
      "16      18  \n",
      "17      19  \n",
      "18      21  \n"
     ]
    }
   ],
   "source": [
    "# check files, ID & NATCODE should be the same\n",
    "print(allvisitors)\n",
    "#print(finnish)\n",
    "#print(foreign)"
   ]
  },
  {
   "cell_type": "code",
   "execution_count": 7,
   "metadata": {},
   "outputs": [],
   "source": [
    "#merge csv files and shapefile\n",
    "allvisitorsgeo = regions.merge(allvisitors, on='NATCODE')\n",
    "finnishgeo = regions.merge(finnish, on='NATCODE')\n",
    "foreigngeo = regions.merge(foreign, on='NATCODE')"
   ]
  },
  {
   "cell_type": "code",
   "execution_count": 8,
   "metadata": {},
   "outputs": [],
   "source": [
    "#save shapefiles\n",
    "allvisitorsgeo.to_file(\"allvisitors_official.shp\")\n",
    "finnishgeo.to_file(\"finnish_official.shp\")\n",
    "foreigngeo.to_file(\"foreign_official.shp\")"
   ]
  },
  {
   "cell_type": "code",
   "execution_count": null,
   "metadata": {},
   "outputs": [],
   "source": []
  }
 ],
 "metadata": {
  "kernelspec": {
   "display_name": "Python 3",
   "language": "python",
   "name": "python3"
  },
  "language_info": {
   "codemirror_mode": {
    "name": "ipython",
    "version": 3
   },
   "file_extension": ".py",
   "mimetype": "text/x-python",
   "name": "python",
   "nbconvert_exporter": "python",
   "pygments_lexer": "ipython3",
   "version": "3.7.4"
  }
 },
 "nbformat": 4,
 "nbformat_minor": 4
}
